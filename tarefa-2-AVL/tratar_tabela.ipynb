{
 "cells": [
  {
   "cell_type": "code",
   "execution_count": 3,
   "id": "eec28190",
   "metadata": {},
   "outputs": [
    {
     "name": "stdout",
     "output_type": "stream",
     "text": [
      "dimensões iniciais: linhas = 61  colunas = 24\n",
      "quantidade de alimentos duplicados = 0\n",
      "dimensões finais: linhas = 61  colunas = 23\n"
     ]
    }
   ],
   "source": [
    "import pandas as pd\n",
    "dados = pd.read_excel(\"food-nutrition-information.xlsx\", engine='openpyxl')\n",
    "print(f\"dimensões iniciais: linhas = {len(dados)}  colunas = {len(dados.columns)}\")\n",
    "\n",
    "# ----------------- tratando os dados\n",
    "\n",
    "# excluir a coluna food_type\n",
    "dados.drop(columns=['food_type'], inplace=True)\n",
    "\n",
    "# filtra coluna food_and_serving para pegar dados antes da virgula\n",
    "dados['food_and_serving'] = dados['food_and_serving'].str.split(\",\", expand=True)[0]\n",
    "\n",
    "# transformar dados nulos em 0\n",
    "dados = dados.fillna(0)\n",
    "\n",
    "# colunas numéricas\n",
    "col_num = dados.columns.to_list()[1:]\n",
    "# transformar as coluna numéricas em float\n",
    "dados[col_num] = dados[col_num].astype(float)\n",
    "\n",
    "# verificar a quantidade de food_and_serving duplicados\n",
    "l_duplicados = len([i for i in dados['food_and_serving'].value_counts().values if i > 1])\n",
    "print(f\"quantidade de alimentos duplicados = {l_duplicados}\")\n",
    "print(f\"dimensões finais: linhas = {len(dados)}  colunas = {len(dados.columns)}\")\n",
    "\n",
    "# baixar os dados finais\n",
    "dados.to_excel(\"dados_finais.xlsx\", engine='openpyxl',index=False)\n",
    "dados.to_csv(\"dados_finais.csv\", index=False)"
   ]
  }
 ],
 "metadata": {
  "kernelspec": {
   "display_name": "Python 3 (ipykernel)",
   "language": "python",
   "name": "python3"
  },
  "language_info": {
   "codemirror_mode": {
    "name": "ipython",
    "version": 3
   },
   "file_extension": ".py",
   "mimetype": "text/x-python",
   "name": "python",
   "nbconvert_exporter": "python",
   "pygments_lexer": "ipython3",
   "version": "3.8.3"
  }
 },
 "nbformat": 4,
 "nbformat_minor": 5
}
